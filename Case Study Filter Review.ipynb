{
 "cells": [
  {
   "cell_type": "code",
   "execution_count": 7,
   "metadata": {},
   "outputs": [],
   "source": [
    "# import the required libraries here\n",
    "import pandas as pd\n",
    "import matplotlib.pyplot as plt\n",
    "import os"
   ]
  },
  {
   "cell_type": "code",
   "execution_count": 10,
   "metadata": {},
   "outputs": [],
   "source": [
    "# task: read in our previously created file that contains the business IDs of interest\n",
    "# one line\n",
    "businesses = pd.read_csv('business_list.csv')"
   ]
  },
  {
   "cell_type": "code",
   "execution_count": 9,
   "metadata": {},
   "outputs": [],
   "source": [
    "os.chdir(\"C:\\\\Users\\\\pbj2766\\\\Documents\\\\Data Science\\\\Yelp\")"
   ]
  },
  {
   "cell_type": "code",
   "execution_count": 11,
   "metadata": {},
   "outputs": [
    {
     "data": {
      "text/plain": [
       "(6804, 4)"
      ]
     },
     "execution_count": 11,
     "metadata": {},
     "output_type": "execute_result"
    }
   ],
   "source": [
    "businesses.head()\n",
    "businesses.shape"
   ]
  },
  {
   "cell_type": "code",
   "execution_count": 12,
   "metadata": {},
   "outputs": [
    {
     "name": "stdout",
     "output_type": "stream",
     "text": [
      "['fweCYi8FmbJXHCqLnwuk8w' 'bJP4l_BGq2CudEu0m-wNjg'\n",
      " 'WlArCYe6xCzOe5u2Lt1how' 'jwHtNvHBPafiAwM92jM8yA'\n",
      " 'v7ZFEEqJBg_r8NCwHRP_2A']\n"
     ]
    }
   ],
   "source": [
    "business_ids = businesses['business_id'].values\n",
    "print(business_ids[:5])"
   ]
  },
  {
   "cell_type": "code",
   "execution_count": 13,
   "metadata": {},
   "outputs": [],
   "source": [
    "# For convenience here, again we are accessing the data in the working directory that contains our notebooks.\n",
    "# Normal best practise is to keep your data separate, but this keeps things simple here.\n",
    "# If you're comfortable specifying a filepath to files outside of this working directory, then feel free to do so.\n",
    "# task: create a reader object for the review json file\n",
    "# Hint: use lines=True as before but add the chunksize=100000 parameter\n",
    "# one line of code here\n",
    "\n",
    "os.chdir(\"C:\\\\Users\\\\pbj2766\\\\Documents\\\\Data Science\\\\Yelp\")\n",
    "review_reader = pd.read_json('review.json', lines =  True, chunksize= 100000)\n",
    "# review_reader = pd.read_json('yelp_academic_dataset_review.json', lines =  True, chunksize = 100000)"
   ]
  },
  {
   "cell_type": "code",
   "execution_count": 14,
   "metadata": {},
   "outputs": [
    {
     "name": "stdout",
     "output_type": "stream",
     "text": [
      "Wall time: 14min 40s\n"
     ]
    }
   ],
   "source": [
    "%%time\n",
    "# task: process the file one chunk at a time,\n",
    "# filter that chunk for rows with a business_id in business_ids\n",
    "# You can either do this within in a loop, having initialized an empty list,\n",
    "# or using a more pythonic list comprehension\n",
    "reviews = [review.loc[review['business_id'].apply(lambda x: x in business_ids)] for review in review_reader]\n",
    "# (this took some 24 minutes on my old i7)"
   ]
  },
  {
   "cell_type": "code",
   "execution_count": 17,
   "metadata": {},
   "outputs": [
    {
     "data": {
      "text/html": [
       "<div>\n",
       "<style scoped>\n",
       "    .dataframe tbody tr th:only-of-type {\n",
       "        vertical-align: middle;\n",
       "    }\n",
       "\n",
       "    .dataframe tbody tr th {\n",
       "        vertical-align: top;\n",
       "    }\n",
       "\n",
       "    .dataframe thead th {\n",
       "        text-align: right;\n",
       "    }\n",
       "</style>\n",
       "<table border=\"1\" class=\"dataframe\">\n",
       "  <thead>\n",
       "    <tr style=\"text-align: right;\">\n",
       "      <th></th>\n",
       "      <th>review_id</th>\n",
       "      <th>user_id</th>\n",
       "      <th>business_id</th>\n",
       "      <th>stars</th>\n",
       "      <th>useful</th>\n",
       "      <th>funny</th>\n",
       "      <th>cool</th>\n",
       "      <th>text</th>\n",
       "      <th>date</th>\n",
       "    </tr>\n",
       "  </thead>\n",
       "  <tbody>\n",
       "    <tr>\n",
       "      <td>5</td>\n",
       "      <td>fdiNeiN_hoCxCMy2wTRW9g</td>\n",
       "      <td>w31MKYsNFMrjhWxxAb5wIw</td>\n",
       "      <td>eU_713ec6fTGNO4BegRaww</td>\n",
       "      <td>4</td>\n",
       "      <td>0</td>\n",
       "      <td>0</td>\n",
       "      <td>0</td>\n",
       "      <td>I'll be the first to admit that I was not exci...</td>\n",
       "      <td>2013-01-20 13:25:59</td>\n",
       "    </tr>\n",
       "    <tr>\n",
       "      <td>15</td>\n",
       "      <td>svK3nBU7Rk8VfGorlrN52A</td>\n",
       "      <td>NJlxGtouq06hhC7sS2ECYw</td>\n",
       "      <td>YvrylyuWgbP90RgMqZQVnQ</td>\n",
       "      <td>5</td>\n",
       "      <td>0</td>\n",
       "      <td>0</td>\n",
       "      <td>0</td>\n",
       "      <td>You can't really find anything wrong with this...</td>\n",
       "      <td>2017-04-07 21:27:49</td>\n",
       "    </tr>\n",
       "    <tr>\n",
       "      <td>19</td>\n",
       "      <td>4bUyL7lzoWzDZaJETAKREg</td>\n",
       "      <td>_N7Ndn29bpll_961oPeEfw</td>\n",
       "      <td>y-Iw6dZflNix4BdwIyTNGA</td>\n",
       "      <td>3</td>\n",
       "      <td>0</td>\n",
       "      <td>0</td>\n",
       "      <td>0</td>\n",
       "      <td>Good selection of classes of beers and mains. ...</td>\n",
       "      <td>2014-06-27 21:19:23</td>\n",
       "    </tr>\n",
       "    <tr>\n",
       "      <td>20</td>\n",
       "      <td>Amo5gZBvCuPc_tZNpHwtsA</td>\n",
       "      <td>DzZ7piLBF-WsJxqosfJgtA</td>\n",
       "      <td>qx6WhZ42eDKmBchZDax4dQ</td>\n",
       "      <td>5</td>\n",
       "      <td>1</td>\n",
       "      <td>0</td>\n",
       "      <td>0</td>\n",
       "      <td>Our family LOVES the food here. Quick, friendl...</td>\n",
       "      <td>2017-03-27 01:14:37</td>\n",
       "    </tr>\n",
       "    <tr>\n",
       "      <td>22</td>\n",
       "      <td>IByf6mVY0WA838XNSh-5MA</td>\n",
       "      <td>3CJUJILq7CLHk_9OrvpvQg</td>\n",
       "      <td>I4Nr-MVc26qWr08-S3Q1ow</td>\n",
       "      <td>4</td>\n",
       "      <td>0</td>\n",
       "      <td>0</td>\n",
       "      <td>0</td>\n",
       "      <td>The food is always good and the prices are rea...</td>\n",
       "      <td>2016-01-17 05:26:22</td>\n",
       "    </tr>\n",
       "    <tr>\n",
       "      <td>...</td>\n",
       "      <td>...</td>\n",
       "      <td>...</td>\n",
       "      <td>...</td>\n",
       "      <td>...</td>\n",
       "      <td>...</td>\n",
       "      <td>...</td>\n",
       "      <td>...</td>\n",
       "      <td>...</td>\n",
       "      <td>...</td>\n",
       "    </tr>\n",
       "    <tr>\n",
       "      <td>99894</td>\n",
       "      <td>gQJFrRP2_5U0okZQ3adqOQ</td>\n",
       "      <td>-znBbADZqQ_30bWe6o6rKg</td>\n",
       "      <td>-Dnh48f029YNugtMKkkI-Q</td>\n",
       "      <td>4</td>\n",
       "      <td>0</td>\n",
       "      <td>0</td>\n",
       "      <td>0</td>\n",
       "      <td>Went here because our first choice was packed!...</td>\n",
       "      <td>2017-02-12 01:52:43</td>\n",
       "    </tr>\n",
       "    <tr>\n",
       "      <td>99897</td>\n",
       "      <td>XItEa10SU7ZJIkhn-qUXHw</td>\n",
       "      <td>THehvpH1mDrMioOV6JSZxw</td>\n",
       "      <td>qx6WhZ42eDKmBchZDax4dQ</td>\n",
       "      <td>5</td>\n",
       "      <td>0</td>\n",
       "      <td>0</td>\n",
       "      <td>0</td>\n",
       "      <td>Best service in town! As soon as we walked in ...</td>\n",
       "      <td>2018-03-05 01:04:30</td>\n",
       "    </tr>\n",
       "    <tr>\n",
       "      <td>99948</td>\n",
       "      <td>R0gQu-1Pgm8Ws0otu8Dvow</td>\n",
       "      <td>4ypEkjMXPe7ga3U9XzArqQ</td>\n",
       "      <td>XsSgv3vBOyOBXn3Co8EVIg</td>\n",
       "      <td>1</td>\n",
       "      <td>2</td>\n",
       "      <td>4</td>\n",
       "      <td>1</td>\n",
       "      <td>Holy cow. You Vegas folks have low standards.\\...</td>\n",
       "      <td>2015-08-09 01:34:52</td>\n",
       "    </tr>\n",
       "    <tr>\n",
       "      <td>99967</td>\n",
       "      <td>fKj7icAM7X-9wKoGDgfPEw</td>\n",
       "      <td>9QBlihI5c7wT_SKNT1y_KQ</td>\n",
       "      <td>dUffgo9Lh_Vk9TLuFR5ywg</td>\n",
       "      <td>5</td>\n",
       "      <td>1</td>\n",
       "      <td>0</td>\n",
       "      <td>1</td>\n",
       "      <td>I've been here twice. I love it here. the vibe...</td>\n",
       "      <td>2015-05-29 10:02:11</td>\n",
       "    </tr>\n",
       "    <tr>\n",
       "      <td>99982</td>\n",
       "      <td>HSyW6gxEKguITFecPr92qQ</td>\n",
       "      <td>s0wOwU_bkxfTMW2oFnM_tQ</td>\n",
       "      <td>N6MzDoao6s68nAIW8vS9dQ</td>\n",
       "      <td>5</td>\n",
       "      <td>0</td>\n",
       "      <td>0</td>\n",
       "      <td>0</td>\n",
       "      <td>Ordered in on a rainy windy day, they accommod...</td>\n",
       "      <td>2017-03-29 20:40:41</td>\n",
       "    </tr>\n",
       "  </tbody>\n",
       "</table>\n",
       "<p>5800 rows × 9 columns</p>\n",
       "</div>"
      ],
      "text/plain": [
       "                    review_id                 user_id             business_id  \\\n",
       "5      fdiNeiN_hoCxCMy2wTRW9g  w31MKYsNFMrjhWxxAb5wIw  eU_713ec6fTGNO4BegRaww   \n",
       "15     svK3nBU7Rk8VfGorlrN52A  NJlxGtouq06hhC7sS2ECYw  YvrylyuWgbP90RgMqZQVnQ   \n",
       "19     4bUyL7lzoWzDZaJETAKREg  _N7Ndn29bpll_961oPeEfw  y-Iw6dZflNix4BdwIyTNGA   \n",
       "20     Amo5gZBvCuPc_tZNpHwtsA  DzZ7piLBF-WsJxqosfJgtA  qx6WhZ42eDKmBchZDax4dQ   \n",
       "22     IByf6mVY0WA838XNSh-5MA  3CJUJILq7CLHk_9OrvpvQg  I4Nr-MVc26qWr08-S3Q1ow   \n",
       "...                       ...                     ...                     ...   \n",
       "99894  gQJFrRP2_5U0okZQ3adqOQ  -znBbADZqQ_30bWe6o6rKg  -Dnh48f029YNugtMKkkI-Q   \n",
       "99897  XItEa10SU7ZJIkhn-qUXHw  THehvpH1mDrMioOV6JSZxw  qx6WhZ42eDKmBchZDax4dQ   \n",
       "99948  R0gQu-1Pgm8Ws0otu8Dvow  4ypEkjMXPe7ga3U9XzArqQ  XsSgv3vBOyOBXn3Co8EVIg   \n",
       "99967  fKj7icAM7X-9wKoGDgfPEw  9QBlihI5c7wT_SKNT1y_KQ  dUffgo9Lh_Vk9TLuFR5ywg   \n",
       "99982  HSyW6gxEKguITFecPr92qQ  s0wOwU_bkxfTMW2oFnM_tQ  N6MzDoao6s68nAIW8vS9dQ   \n",
       "\n",
       "       stars  useful  funny  cool  \\\n",
       "5          4       0      0     0   \n",
       "15         5       0      0     0   \n",
       "19         3       0      0     0   \n",
       "20         5       1      0     0   \n",
       "22         4       0      0     0   \n",
       "...      ...     ...    ...   ...   \n",
       "99894      4       0      0     0   \n",
       "99897      5       0      0     0   \n",
       "99948      1       2      4     1   \n",
       "99967      5       1      0     1   \n",
       "99982      5       0      0     0   \n",
       "\n",
       "                                                    text                date  \n",
       "5      I'll be the first to admit that I was not exci... 2013-01-20 13:25:59  \n",
       "15     You can't really find anything wrong with this... 2017-04-07 21:27:49  \n",
       "19     Good selection of classes of beers and mains. ... 2014-06-27 21:19:23  \n",
       "20     Our family LOVES the food here. Quick, friendl... 2017-03-27 01:14:37  \n",
       "22     The food is always good and the prices are rea... 2016-01-17 05:26:22  \n",
       "...                                                  ...                 ...  \n",
       "99894  Went here because our first choice was packed!... 2017-02-12 01:52:43  \n",
       "99897  Best service in town! As soon as we walked in ... 2018-03-05 01:04:30  \n",
       "99948  Holy cow. You Vegas folks have low standards.\\... 2015-08-09 01:34:52  \n",
       "99967  I've been here twice. I love it here. the vibe... 2015-05-29 10:02:11  \n",
       "99982  Ordered in on a rainy windy day, they accommod... 2017-03-29 20:40:41  \n",
       "\n",
       "[5800 rows x 9 columns]"
      ]
     },
     "execution_count": 17,
     "metadata": {},
     "output_type": "execute_result"
    }
   ],
   "source": [
    "reviews[0]"
   ]
  },
  {
   "cell_type": "code",
   "execution_count": 22,
   "metadata": {},
   "outputs": [
    {
     "data": {
      "text/plain": [
       "list"
      ]
     },
     "execution_count": 22,
     "metadata": {},
     "output_type": "execute_result"
    }
   ],
   "source": [
    "type(reviews)"
   ]
  },
  {
   "cell_type": "code",
   "execution_count": 23,
   "metadata": {},
   "outputs": [
    {
     "data": {
      "text/plain": [
       "67"
      ]
     },
     "execution_count": 23,
     "metadata": {},
     "output_type": "execute_result"
    }
   ],
   "source": [
    "len(reviews)"
   ]
  },
  {
   "cell_type": "code",
   "execution_count": 24,
   "metadata": {},
   "outputs": [],
   "source": [
    "# task convert your reviews into a DataFrame\n",
    "# one line of code here\n",
    "reviews = pd.concat(reviews)"
   ]
  },
  {
   "cell_type": "code",
   "execution_count": 25,
   "metadata": {},
   "outputs": [
    {
     "data": {
      "text/plain": [
       "(394428, 9)"
      ]
     },
     "execution_count": 25,
     "metadata": {},
     "output_type": "execute_result"
    }
   ],
   "source": [
    "reviews.shape"
   ]
  },
  {
   "cell_type": "code",
   "execution_count": 26,
   "metadata": {},
   "outputs": [
    {
     "data": {
      "text/html": [
       "<div>\n",
       "<style scoped>\n",
       "    .dataframe tbody tr th:only-of-type {\n",
       "        vertical-align: middle;\n",
       "    }\n",
       "\n",
       "    .dataframe tbody tr th {\n",
       "        vertical-align: top;\n",
       "    }\n",
       "\n",
       "    .dataframe thead th {\n",
       "        text-align: right;\n",
       "    }\n",
       "</style>\n",
       "<table border=\"1\" class=\"dataframe\">\n",
       "  <thead>\n",
       "    <tr style=\"text-align: right;\">\n",
       "      <th></th>\n",
       "      <th>review_id</th>\n",
       "      <th>user_id</th>\n",
       "      <th>business_id</th>\n",
       "      <th>stars</th>\n",
       "      <th>useful</th>\n",
       "      <th>funny</th>\n",
       "      <th>cool</th>\n",
       "      <th>text</th>\n",
       "      <th>date</th>\n",
       "    </tr>\n",
       "  </thead>\n",
       "  <tbody>\n",
       "    <tr>\n",
       "      <td>5</td>\n",
       "      <td>fdiNeiN_hoCxCMy2wTRW9g</td>\n",
       "      <td>w31MKYsNFMrjhWxxAb5wIw</td>\n",
       "      <td>eU_713ec6fTGNO4BegRaww</td>\n",
       "      <td>4</td>\n",
       "      <td>0</td>\n",
       "      <td>0</td>\n",
       "      <td>0</td>\n",
       "      <td>I'll be the first to admit that I was not exci...</td>\n",
       "      <td>2013-01-20 13:25:59</td>\n",
       "    </tr>\n",
       "    <tr>\n",
       "      <td>15</td>\n",
       "      <td>svK3nBU7Rk8VfGorlrN52A</td>\n",
       "      <td>NJlxGtouq06hhC7sS2ECYw</td>\n",
       "      <td>YvrylyuWgbP90RgMqZQVnQ</td>\n",
       "      <td>5</td>\n",
       "      <td>0</td>\n",
       "      <td>0</td>\n",
       "      <td>0</td>\n",
       "      <td>You can't really find anything wrong with this...</td>\n",
       "      <td>2017-04-07 21:27:49</td>\n",
       "    </tr>\n",
       "    <tr>\n",
       "      <td>19</td>\n",
       "      <td>4bUyL7lzoWzDZaJETAKREg</td>\n",
       "      <td>_N7Ndn29bpll_961oPeEfw</td>\n",
       "      <td>y-Iw6dZflNix4BdwIyTNGA</td>\n",
       "      <td>3</td>\n",
       "      <td>0</td>\n",
       "      <td>0</td>\n",
       "      <td>0</td>\n",
       "      <td>Good selection of classes of beers and mains. ...</td>\n",
       "      <td>2014-06-27 21:19:23</td>\n",
       "    </tr>\n",
       "    <tr>\n",
       "      <td>20</td>\n",
       "      <td>Amo5gZBvCuPc_tZNpHwtsA</td>\n",
       "      <td>DzZ7piLBF-WsJxqosfJgtA</td>\n",
       "      <td>qx6WhZ42eDKmBchZDax4dQ</td>\n",
       "      <td>5</td>\n",
       "      <td>1</td>\n",
       "      <td>0</td>\n",
       "      <td>0</td>\n",
       "      <td>Our family LOVES the food here. Quick, friendl...</td>\n",
       "      <td>2017-03-27 01:14:37</td>\n",
       "    </tr>\n",
       "    <tr>\n",
       "      <td>22</td>\n",
       "      <td>IByf6mVY0WA838XNSh-5MA</td>\n",
       "      <td>3CJUJILq7CLHk_9OrvpvQg</td>\n",
       "      <td>I4Nr-MVc26qWr08-S3Q1ow</td>\n",
       "      <td>4</td>\n",
       "      <td>0</td>\n",
       "      <td>0</td>\n",
       "      <td>0</td>\n",
       "      <td>The food is always good and the prices are rea...</td>\n",
       "      <td>2016-01-17 05:26:22</td>\n",
       "    </tr>\n",
       "  </tbody>\n",
       "</table>\n",
       "</div>"
      ],
      "text/plain": [
       "                 review_id                 user_id             business_id  \\\n",
       "5   fdiNeiN_hoCxCMy2wTRW9g  w31MKYsNFMrjhWxxAb5wIw  eU_713ec6fTGNO4BegRaww   \n",
       "15  svK3nBU7Rk8VfGorlrN52A  NJlxGtouq06hhC7sS2ECYw  YvrylyuWgbP90RgMqZQVnQ   \n",
       "19  4bUyL7lzoWzDZaJETAKREg  _N7Ndn29bpll_961oPeEfw  y-Iw6dZflNix4BdwIyTNGA   \n",
       "20  Amo5gZBvCuPc_tZNpHwtsA  DzZ7piLBF-WsJxqosfJgtA  qx6WhZ42eDKmBchZDax4dQ   \n",
       "22  IByf6mVY0WA838XNSh-5MA  3CJUJILq7CLHk_9OrvpvQg  I4Nr-MVc26qWr08-S3Q1ow   \n",
       "\n",
       "    stars  useful  funny  cool  \\\n",
       "5       4       0      0     0   \n",
       "15      5       0      0     0   \n",
       "19      3       0      0     0   \n",
       "20      5       1      0     0   \n",
       "22      4       0      0     0   \n",
       "\n",
       "                                                 text                date  \n",
       "5   I'll be the first to admit that I was not exci... 2013-01-20 13:25:59  \n",
       "15  You can't really find anything wrong with this... 2017-04-07 21:27:49  \n",
       "19  Good selection of classes of beers and mains. ... 2014-06-27 21:19:23  \n",
       "20  Our family LOVES the food here. Quick, friendl... 2017-03-27 01:14:37  \n",
       "22  The food is always good and the prices are rea... 2016-01-17 05:26:22  "
      ]
     },
     "execution_count": 26,
     "metadata": {},
     "output_type": "execute_result"
    }
   ],
   "source": [
    "reviews.head()"
   ]
  },
  {
   "cell_type": "code",
   "execution_count": 27,
   "metadata": {},
   "outputs": [],
   "source": [
    "# task: save the DataFrame to the specified file now.\n",
    "# don't forget to use index=False\n",
    "reviews.to_csv('reviews_filtered.csv', index=False)"
   ]
  },
  {
   "cell_type": "code",
   "execution_count": null,
   "metadata": {},
   "outputs": [],
   "source": []
  }
 ],
 "metadata": {
  "kernelspec": {
   "display_name": "Python 3",
   "language": "python",
   "name": "python3"
  },
  "language_info": {
   "codemirror_mode": {
    "name": "ipython",
    "version": 3
   },
   "file_extension": ".py",
   "mimetype": "text/x-python",
   "name": "python",
   "nbconvert_exporter": "python",
   "pygments_lexer": "ipython3",
   "version": "3.7.4"
  }
 },
 "nbformat": 4,
 "nbformat_minor": 4
}
